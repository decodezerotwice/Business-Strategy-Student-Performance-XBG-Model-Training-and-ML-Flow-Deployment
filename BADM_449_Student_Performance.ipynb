{
  "nbformat": 4,
  "nbformat_minor": 0,
  "metadata": {
    "colab": {
      "provenance": []
    },
    "kernelspec": {
      "name": "python3",
      "display_name": "Python 3"
    },
    "language_info": {
      "name": "python"
    }
  },
  "cells": [
    {
      "cell_type": "code",
      "source": [
        "# Create ngrok.yml configuration file\n",
        "ngrok_config = \"\"\"\n",
        "authtoken: 2gkiMl0AJJZwjXhY678GI9mlwCS_4LAsT9BTcpwnrvGb2JQ7C\n",
        "tunnels:\n",
        "  mlflow:\n",
        "    addr: 5000\n",
        "    proto: http\n",
        "\"\"\"\n",
        "\n",
        "with open('ngrok.yml', 'w') as f:\n",
        "    f.write(ngrok_config)\n"
      ],
      "metadata": {
        "id": "oyD-uEo1dyUY"
      },
      "execution_count": 9,
      "outputs": []
    },
    {
      "cell_type": "code",
      "source": [
        "!pip install mlflow\n",
        "!pip install pyngrok\n"
      ],
      "metadata": {
        "colab": {
          "base_uri": "https://localhost:8080/"
        },
        "id": "gRnpk8H7dzfG",
        "outputId": "f22c33e1-8d3e-4453-ea8b-f5e3870e121c"
      },
      "execution_count": 10,
      "outputs": [
        {
          "output_type": "stream",
          "name": "stdout",
          "text": [
            "Requirement already satisfied: mlflow in /usr/local/lib/python3.10/dist-packages (2.14.1)\n",
            "Requirement already satisfied: Flask<4 in /usr/local/lib/python3.10/dist-packages (from mlflow) (2.2.5)\n",
            "Requirement already satisfied: alembic!=1.10.0,<2 in /usr/local/lib/python3.10/dist-packages (from mlflow) (1.13.2)\n",
            "Requirement already satisfied: cachetools<6,>=5.0.0 in /usr/local/lib/python3.10/dist-packages (from mlflow) (5.3.3)\n",
            "Requirement already satisfied: click<9,>=7.0 in /usr/local/lib/python3.10/dist-packages (from mlflow) (8.1.7)\n",
            "Requirement already satisfied: cloudpickle<4 in /usr/local/lib/python3.10/dist-packages (from mlflow) (2.2.1)\n",
            "Requirement already satisfied: docker<8,>=4.0.0 in /usr/local/lib/python3.10/dist-packages (from mlflow) (7.1.0)\n",
            "Requirement already satisfied: entrypoints<1 in /usr/local/lib/python3.10/dist-packages (from mlflow) (0.4)\n",
            "Requirement already satisfied: gitpython<4,>=3.1.9 in /usr/local/lib/python3.10/dist-packages (from mlflow) (3.1.43)\n",
            "Requirement already satisfied: graphene<4 in /usr/local/lib/python3.10/dist-packages (from mlflow) (3.3)\n",
            "Requirement already satisfied: importlib-metadata!=4.7.0,<8,>=3.7.0 in /usr/local/lib/python3.10/dist-packages (from mlflow) (7.1.0)\n",
            "Requirement already satisfied: markdown<4,>=3.3 in /usr/local/lib/python3.10/dist-packages (from mlflow) (3.6)\n",
            "Requirement already satisfied: matplotlib<4 in /usr/local/lib/python3.10/dist-packages (from mlflow) (3.7.1)\n",
            "Requirement already satisfied: numpy<2 in /usr/local/lib/python3.10/dist-packages (from mlflow) (1.25.2)\n",
            "Requirement already satisfied: opentelemetry-api<3,>=1.9.0 in /usr/local/lib/python3.10/dist-packages (from mlflow) (1.25.0)\n",
            "Requirement already satisfied: opentelemetry-sdk<3,>=1.9.0 in /usr/local/lib/python3.10/dist-packages (from mlflow) (1.25.0)\n",
            "Requirement already satisfied: packaging<25 in /usr/local/lib/python3.10/dist-packages (from mlflow) (24.1)\n",
            "Requirement already satisfied: pandas<3 in /usr/local/lib/python3.10/dist-packages (from mlflow) (2.0.3)\n",
            "Requirement already satisfied: protobuf<5,>=3.12.0 in /usr/local/lib/python3.10/dist-packages (from mlflow) (3.20.3)\n",
            "Requirement already satisfied: pyarrow<16,>=4.0.0 in /usr/local/lib/python3.10/dist-packages (from mlflow) (14.0.2)\n",
            "Requirement already satisfied: pytz<2025 in /usr/local/lib/python3.10/dist-packages (from mlflow) (2023.4)\n",
            "Requirement already satisfied: pyyaml<7,>=5.1 in /usr/local/lib/python3.10/dist-packages (from mlflow) (6.0.1)\n",
            "Requirement already satisfied: querystring-parser<2 in /usr/local/lib/python3.10/dist-packages (from mlflow) (1.2.4)\n",
            "Requirement already satisfied: requests<3,>=2.17.3 in /usr/local/lib/python3.10/dist-packages (from mlflow) (2.31.0)\n",
            "Requirement already satisfied: scikit-learn<2 in /usr/local/lib/python3.10/dist-packages (from mlflow) (1.2.2)\n",
            "Requirement already satisfied: scipy<2 in /usr/local/lib/python3.10/dist-packages (from mlflow) (1.11.4)\n",
            "Requirement already satisfied: sqlalchemy<3,>=1.4.0 in /usr/local/lib/python3.10/dist-packages (from mlflow) (2.0.31)\n",
            "Requirement already satisfied: sqlparse<1,>=0.4.0 in /usr/local/lib/python3.10/dist-packages (from mlflow) (0.5.0)\n",
            "Requirement already satisfied: Jinja2<4,>=2.11 in /usr/local/lib/python3.10/dist-packages (from mlflow) (3.1.4)\n",
            "Requirement already satisfied: gunicorn<23 in /usr/local/lib/python3.10/dist-packages (from mlflow) (22.0.0)\n",
            "Requirement already satisfied: Mako in /usr/local/lib/python3.10/dist-packages (from alembic!=1.10.0,<2->mlflow) (1.3.5)\n",
            "Requirement already satisfied: typing-extensions>=4 in /usr/local/lib/python3.10/dist-packages (from alembic!=1.10.0,<2->mlflow) (4.12.2)\n",
            "Requirement already satisfied: urllib3>=1.26.0 in /usr/local/lib/python3.10/dist-packages (from docker<8,>=4.0.0->mlflow) (2.0.7)\n",
            "Requirement already satisfied: Werkzeug>=2.2.2 in /usr/local/lib/python3.10/dist-packages (from Flask<4->mlflow) (3.0.3)\n",
            "Requirement already satisfied: itsdangerous>=2.0 in /usr/local/lib/python3.10/dist-packages (from Flask<4->mlflow) (2.2.0)\n",
            "Requirement already satisfied: gitdb<5,>=4.0.1 in /usr/local/lib/python3.10/dist-packages (from gitpython<4,>=3.1.9->mlflow) (4.0.11)\n",
            "Requirement already satisfied: graphql-core<3.3,>=3.1 in /usr/local/lib/python3.10/dist-packages (from graphene<4->mlflow) (3.2.3)\n",
            "Requirement already satisfied: graphql-relay<3.3,>=3.1 in /usr/local/lib/python3.10/dist-packages (from graphene<4->mlflow) (3.2.0)\n",
            "Requirement already satisfied: aniso8601<10,>=8 in /usr/local/lib/python3.10/dist-packages (from graphene<4->mlflow) (9.0.1)\n",
            "Requirement already satisfied: zipp>=0.5 in /usr/local/lib/python3.10/dist-packages (from importlib-metadata!=4.7.0,<8,>=3.7.0->mlflow) (3.19.2)\n",
            "Requirement already satisfied: MarkupSafe>=2.0 in /usr/local/lib/python3.10/dist-packages (from Jinja2<4,>=2.11->mlflow) (2.1.5)\n",
            "Requirement already satisfied: contourpy>=1.0.1 in /usr/local/lib/python3.10/dist-packages (from matplotlib<4->mlflow) (1.2.1)\n",
            "Requirement already satisfied: cycler>=0.10 in /usr/local/lib/python3.10/dist-packages (from matplotlib<4->mlflow) (0.12.1)\n",
            "Requirement already satisfied: fonttools>=4.22.0 in /usr/local/lib/python3.10/dist-packages (from matplotlib<4->mlflow) (4.53.0)\n",
            "Requirement already satisfied: kiwisolver>=1.0.1 in /usr/local/lib/python3.10/dist-packages (from matplotlib<4->mlflow) (1.4.5)\n",
            "Requirement already satisfied: pillow>=6.2.0 in /usr/local/lib/python3.10/dist-packages (from matplotlib<4->mlflow) (9.4.0)\n",
            "Requirement already satisfied: pyparsing>=2.3.1 in /usr/local/lib/python3.10/dist-packages (from matplotlib<4->mlflow) (3.1.2)\n",
            "Requirement already satisfied: python-dateutil>=2.7 in /usr/local/lib/python3.10/dist-packages (from matplotlib<4->mlflow) (2.8.2)\n",
            "Requirement already satisfied: deprecated>=1.2.6 in /usr/local/lib/python3.10/dist-packages (from opentelemetry-api<3,>=1.9.0->mlflow) (1.2.14)\n",
            "Requirement already satisfied: opentelemetry-semantic-conventions==0.46b0 in /usr/local/lib/python3.10/dist-packages (from opentelemetry-sdk<3,>=1.9.0->mlflow) (0.46b0)\n",
            "Requirement already satisfied: tzdata>=2022.1 in /usr/local/lib/python3.10/dist-packages (from pandas<3->mlflow) (2024.1)\n",
            "Requirement already satisfied: six in /usr/local/lib/python3.10/dist-packages (from querystring-parser<2->mlflow) (1.16.0)\n",
            "Requirement already satisfied: charset-normalizer<4,>=2 in /usr/local/lib/python3.10/dist-packages (from requests<3,>=2.17.3->mlflow) (3.3.2)\n",
            "Requirement already satisfied: idna<4,>=2.5 in /usr/local/lib/python3.10/dist-packages (from requests<3,>=2.17.3->mlflow) (3.7)\n",
            "Requirement already satisfied: certifi>=2017.4.17 in /usr/local/lib/python3.10/dist-packages (from requests<3,>=2.17.3->mlflow) (2024.6.2)\n",
            "Requirement already satisfied: joblib>=1.1.1 in /usr/local/lib/python3.10/dist-packages (from scikit-learn<2->mlflow) (1.4.2)\n",
            "Requirement already satisfied: threadpoolctl>=2.0.0 in /usr/local/lib/python3.10/dist-packages (from scikit-learn<2->mlflow) (3.5.0)\n",
            "Requirement already satisfied: greenlet!=0.4.17 in /usr/local/lib/python3.10/dist-packages (from sqlalchemy<3,>=1.4.0->mlflow) (3.0.3)\n",
            "Requirement already satisfied: wrapt<2,>=1.10 in /usr/local/lib/python3.10/dist-packages (from deprecated>=1.2.6->opentelemetry-api<3,>=1.9.0->mlflow) (1.14.1)\n",
            "Requirement already satisfied: smmap<6,>=3.0.1 in /usr/local/lib/python3.10/dist-packages (from gitdb<5,>=4.0.1->gitpython<4,>=3.1.9->mlflow) (5.0.1)\n",
            "Requirement already satisfied: pyngrok in /usr/local/lib/python3.10/dist-packages (7.1.6)\n",
            "Requirement already satisfied: PyYAML>=5.1 in /usr/local/lib/python3.10/dist-packages (from pyngrok) (6.0.1)\n"
          ]
        }
      ]
    },
    {
      "cell_type": "code",
      "source": [
        "from pyngrok import ngrok\n",
        "\n",
        "# Set your Ngrok authtoken\n",
        "ngrok.set_auth_token('2gkiMl0AJJZwjXhY678GI9mlwCS_4LAsT9BTcpwnrvGb2JQ7C')\n",
        "\n",
        "# Start an ngrok tunnel\n",
        "ngrok_tunnel = ngrok.connect(5000, \"http\")\n",
        "print('Public URL:', ngrok_tunnel.public_url)\n",
        "\n",
        "# Start the MLflow server\n",
        "get_ipython().system_raw(\"mlflow ui --port 5000 &\")\n",
        "\n"
      ],
      "metadata": {
        "colab": {
          "base_uri": "https://localhost:8080/"
        },
        "id": "EPp6Wn9Fd4v3",
        "outputId": "cec429db-e6b7-41cd-ebac-fa3eab88bf7e"
      },
      "execution_count": 12,
      "outputs": [
        {
          "output_type": "stream",
          "name": "stdout",
          "text": [
            "Public URL: https://3db5-35-199-161-204.ngrok-free.app\n"
          ]
        }
      ]
    },
    {
      "cell_type": "code",
      "source": [
        "import pandas as pd\n",
        "from sklearn.model_selection import train_test_split\n",
        "from sklearn.preprocessing import OneHotEncoder\n",
        "from sklearn.compose import ColumnTransformer\n",
        "from sklearn.pipeline import Pipeline\n",
        "from sklearn.impute import SimpleImputer\n",
        "from sklearn.ensemble import RandomForestRegressor, GradientBoostingRegressor\n",
        "from xgboost import XGBRegressor\n",
        "from sklearn.metrics import mean_squared_error, r2_score\n",
        "import mlflow\n",
        "import mlflow.sklearn\n",
        "import mlflow.xgboost\n",
        "\n",
        "# Set tracking URI to the Ngrok public URL\n",
        "mlflow.set_tracking_uri(ngrok_tunnel.public_url)\n",
        "\n",
        "# Load the dataset\n",
        "file_path = '/content/Student Performance.xlsx'\n",
        "data = pd.read_excel(file_path)\n",
        "\n",
        "# Function to clean column names\n",
        "def clean_column_name(col_name):\n",
        "    return col_name.strip().replace('#', '').replace(' ', '_').replace(':', '').replace('(', '').replace(')', '')\n",
        "\n",
        "# Apply the function to all column names\n",
        "data.columns = [clean_column_name(col) for col in data.columns]\n",
        "\n",
        "# Remove the second row\n",
        "data = data.drop(index=1)\n",
        "\n",
        "# Replace missing values with 0 for numeric columns\n",
        "for column in data.columns:\n",
        "    if pd.api.types.is_numeric_dtype(data[column]):\n",
        "        data[column].fillna(0, inplace=True)\n",
        "\n",
        "# Ensure 'Final_Score' exists in the cleaned columns\n",
        "target_variable = 'Final_Score'\n",
        "if target_variable not in data.columns:\n",
        "    raise ValueError(f\"{target_variable} not found in the columns\")\n",
        "\n",
        "# Assuming 'Final_Score' is the target variable\n",
        "X = data.drop(columns=[target_variable])\n",
        "y = data[target_variable]\n",
        "\n",
        "# Identify categorical and numerical columns\n",
        "categorical_cols = X.select_dtypes(include=['object']).columns.tolist()\n",
        "numerical_cols = X.select_dtypes(include=['int64', 'float64']).columns.tolist()\n",
        "\n",
        "# Split the data into training and testing sets\n",
        "X_train, X_test, y_train, y_test = train_test_split(X, y, test_size=0.2, random_state=42)\n",
        "\n",
        "# Preprocessing for numerical data\n",
        "numerical_transformer = SimpleImputer(strategy='constant', fill_value=0)\n",
        "\n",
        "# Preprocessing for categorical data\n",
        "categorical_transformer = Pipeline(steps=[\n",
        "    ('imputer', SimpleImputer(strategy='constant', fill_value='missing')),\n",
        "    ('onehot', OneHotEncoder(handle_unknown='ignore'))\n",
        "])\n",
        "\n",
        "# Bundle preprocessing for numerical and categorical data\n",
        "preprocessor = ColumnTransformer(\n",
        "    transformers=[\n",
        "        ('num', numerical_transformer, numerical_cols),\n",
        "        ('cat', categorical_transformer, categorical_cols)\n",
        "    ])\n",
        "\n",
        "# Create a pipeline that includes the preprocessor and the model\n",
        "def create_model_pipeline(model):\n",
        "    return Pipeline(steps=[\n",
        "        ('preprocessor', preprocessor),\n",
        "        ('model', model)\n",
        "    ])\n",
        "\n",
        "# Initialize models\n",
        "rf_model = RandomForestRegressor(random_state=42)\n",
        "gbm_model = GradientBoostingRegressor(random_state=42)\n",
        "xgb_model = XGBRegressor(random_state=42)\n",
        "\n",
        "# Create pipelines\n",
        "rf_pipeline = create_model_pipeline(rf_model)\n",
        "gbm_pipeline = create_model_pipeline(gbm_model)\n",
        "xgb_pipeline = create_model_pipeline(xgb_model)\n",
        "\n",
        "# Train the models\n",
        "rf_pipeline.fit(X_train, y_train)\n",
        "gbm_pipeline.fit(X_train, y_train)\n",
        "xgb_pipeline.fit(X_train, y_train)\n",
        "\n",
        "print(\"Model Training Complete\")\n",
        "\n",
        "# Predict and evaluate models\n",
        "def evaluate_model(pipeline, X_test, y_test):\n",
        "    predictions = pipeline.predict(X_test)\n",
        "    mse = mean_squared_error(y_test, predictions)\n",
        "    r2 = r2_score(y_test, predictions)\n",
        "    return mse, r2\n",
        "\n",
        "rf_mse, rf_r2 = evaluate_model(rf_pipeline, X_test, y_test)\n",
        "gbm_mse, gbm_r2 = evaluate_model(gbm_pipeline, X_test, y_test)\n",
        "xgb_mse, xgb_r2 = evaluate_model(xgb_pipeline, X_test, y_test)\n",
        "\n",
        "print(f\"RandomForest MSE: {rf_mse}, R2: {rf_r2}\")\n",
        "print(f\"GradientBoosting MSE: {gbm_mse}, R2: {gbm_r2}\")\n",
        "print(f\"XGBoost MSE: {xgb_mse}, R2: {xgb_r2}\")\n",
        "\n",
        "# Function to train and log model\n",
        "def train_and_log_model(pipeline, model_name, X_train, y_train, X_test, y_test):\n",
        "    try:\n",
        "        with mlflow.start_run(run_name=model_name):\n",
        "            pipeline.fit(X_train, y_train)\n",
        "            predictions = pipeline.predict(X_test)\n",
        "            mse = mean_squared_error(y_test, predictions)\n",
        "            r2 = r2_score(y_test, predictions)\n",
        "\n",
        "            mlflow.log_param(\"model_name\", model_name)\n",
        "            mlflow.log_metric(\"mse\", mse)\n",
        "            mlflow.log_metric(\"r2\", r2)\n",
        "\n",
        "            if model_name == \"XGBRegressor\":\n",
        "                mlflow.xgboost.log_model(pipeline.named_steps['model'], artifact_path=\"model\")\n",
        "            else:\n",
        "                mlflow.sklearn.log_model(pipeline.named_steps['model'], artifact_path=\"model\")\n",
        "\n",
        "            print(f\"{model_name} MSE: {mse}, R2: {r2}\")\n",
        "    except Exception as e:\n",
        "        print(f\"Failed to log {model_name} model: {e}\")\n",
        "\n",
        "# Log models with MLflow\n",
        "train_and_log_model(rf_pipeline, \"RandomForestRegressor\", X_train, y_train, X_test, y_test)\n",
        "train_and_log_model(gbm_pipeline, \"GradientBoostingRegressor\", X_train, y_train, X_test, y_test)\n",
        "train_and_log_model(xgb_pipeline, \"XGBRegressor\", X_train, y_train, X_test, y_test)\n",
        "\n",
        "print(\"Model Tracking Complete\")\n"
      ],
      "metadata": {
        "colab": {
          "base_uri": "https://localhost:8080/"
        },
        "id": "c5tDab0ieNae",
        "outputId": "9ac277c6-9232-40fd-963a-393be95b7879"
      },
      "execution_count": 14,
      "outputs": [
        {
          "output_type": "stream",
          "name": "stdout",
          "text": [
            "Model Training Complete\n",
            "RandomForest MSE: 12.915658909130464, R2: 0.827437876907103\n",
            "GradientBoosting MSE: 6.8877532607157015, R2: 0.9079748594809287\n",
            "XGBoost MSE: 6.408346774486543, R2: 0.9143800612341066\n"
          ]
        },
        {
          "output_type": "stream",
          "name": "stderr",
          "text": [
            "/usr/local/lib/python3.10/dist-packages/_distutils_hack/__init__.py:33: UserWarning: Setuptools is replacing distutils.\n",
            "  warnings.warn(\"Setuptools is replacing distutils.\")\n"
          ]
        },
        {
          "output_type": "stream",
          "name": "stdout",
          "text": [
            "RandomForestRegressor MSE: 12.915658909130464, R2: 0.827437876907103\n",
            "GradientBoostingRegressor MSE: 6.8877532607157015, R2: 0.9079748594809287\n"
          ]
        },
        {
          "output_type": "stream",
          "name": "stderr",
          "text": [
            "/usr/local/lib/python3.10/dist-packages/xgboost/core.py:160: UserWarning: [07:23:24] WARNING: /workspace/src/c_api/c_api.cc:1240: Saving into deprecated binary model format, please consider using `json` or `ubj`. Model format will default to JSON in XGBoost 2.2 if not specified.\n",
            "  warnings.warn(smsg, UserWarning)\n"
          ]
        },
        {
          "output_type": "stream",
          "name": "stdout",
          "text": [
            "XGBRegressor MSE: 6.408346774486543, R2: 0.9143800612341066\n",
            "Model Tracking Complete\n"
          ]
        }
      ]
    }
  ]
}